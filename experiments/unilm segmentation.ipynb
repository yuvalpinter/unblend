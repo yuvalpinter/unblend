{
 "cells": [
  {
   "cell_type": "code",
   "execution_count": 1,
   "metadata": {},
   "outputs": [],
   "source": [
    "import sentencepiece as spm\n",
    "import pandas as pd"
   ]
  },
  {
   "cell_type": "code",
   "execution_count": 2,
   "metadata": {},
   "outputs": [],
   "source": [
    "sp = spm.SentencePieceProcessor(model_file='./coca_unilm.model')"
   ]
  },
  {
   "cell_type": "code",
   "execution_count": 3,
   "metadata": {},
   "outputs": [
    {
     "data": {
      "text/html": [
       "<div>\n",
       "<style scoped>\n",
       "    .dataframe tbody tr th:only-of-type {\n",
       "        vertical-align: middle;\n",
       "    }\n",
       "\n",
       "    .dataframe tbody tr th {\n",
       "        vertical-align: top;\n",
       "    }\n",
       "\n",
       "    .dataframe thead th {\n",
       "        text-align: right;\n",
       "    }\n",
       "</style>\n",
       "<table border=\"1\" class=\"dataframe\">\n",
       "  <thead>\n",
       "    <tr style=\"text-align: right;\">\n",
       "      <th></th>\n",
       "      <th>class</th>\n",
       "      <th>word</th>\n",
       "      <th>bases</th>\n",
       "      <th>sequence</th>\n",
       "      <th>linearity</th>\n",
       "      <th>semantic relation</th>\n",
       "    </tr>\n",
       "  </thead>\n",
       "  <tbody>\n",
       "    <tr>\n",
       "      <td>0</td>\n",
       "      <td>blend</td>\n",
       "      <td>adhocrat</td>\n",
       "      <td>adhoc aristocrat</td>\n",
       "      <td>AAAAXBBB</td>\n",
       "      <td>linear</td>\n",
       "      <td>time</td>\n",
       "    </tr>\n",
       "    <tr>\n",
       "      <td>1</td>\n",
       "      <td>blend</td>\n",
       "      <td>ambidancetrous</td>\n",
       "      <td>ambidextrous dance</td>\n",
       "      <td>AAAAXBBBBAAAAA</td>\n",
       "      <td>nonlinear</td>\n",
       "      <td>attribute</td>\n",
       "    </tr>\n",
       "    <tr>\n",
       "      <td>2</td>\n",
       "      <td>blend</td>\n",
       "      <td>analingus</td>\n",
       "      <td>anal cunnilingus</td>\n",
       "      <td>AAAXBBBBB</td>\n",
       "      <td>linear</td>\n",
       "      <td>loc_part_whole</td>\n",
       "    </tr>\n",
       "    <tr>\n",
       "      <td>3</td>\n",
       "      <td>blend</td>\n",
       "      <td>aquamation</td>\n",
       "      <td>aqua cremation</td>\n",
       "      <td>AAAABBBBBB</td>\n",
       "      <td>linear</td>\n",
       "      <td>causal</td>\n",
       "    </tr>\n",
       "    <tr>\n",
       "      <td>4</td>\n",
       "      <td>blend</td>\n",
       "      <td>artveillance</td>\n",
       "      <td>art surveillance</td>\n",
       "      <td>AAABBBBBBBBB</td>\n",
       "      <td>linear</td>\n",
       "      <td>purpose</td>\n",
       "    </tr>\n",
       "  </tbody>\n",
       "</table>\n",
       "</div>"
      ],
      "text/plain": [
       "   class            word               bases        sequence  linearity  \\\n",
       "0  blend        adhocrat    adhoc aristocrat        AAAAXBBB     linear   \n",
       "1  blend  ambidancetrous  ambidextrous dance  AAAAXBBBBAAAAA  nonlinear   \n",
       "2  blend       analingus    anal cunnilingus       AAAXBBBBB     linear   \n",
       "3  blend      aquamation      aqua cremation      AAAABBBBBB     linear   \n",
       "4  blend    artveillance    art surveillance    AAABBBBBBBBB     linear   \n",
       "\n",
       "  semantic relation  \n",
       "0              time  \n",
       "1         attribute  \n",
       "2    loc_part_whole  \n",
       "3            causal  \n",
       "4           purpose  "
      ]
     },
     "execution_count": 3,
     "metadata": {},
     "output_type": "execute_result"
    }
   ],
   "source": [
    "complex_words = pd.read_csv(\"./complex_words.tsv\", sep=\"\\t\")\n",
    "complex_words.head()"
   ]
  },
  {
   "cell_type": "code",
   "execution_count": 4,
   "metadata": {},
   "outputs": [
    {
     "data": {
      "text/plain": [
       "0                 [▁a, d, ho, cra, t]\n",
       "1           [▁am, bi, dance, t, rous]\n",
       "2                  [▁an, al, ing, us]\n",
       "3                 [▁a, qua, m, ation]\n",
       "4               [▁art, ve, il, lance]\n",
       "                    ...              \n",
       "307    [▁, sha, gg, y, d, ood, le, s]\n",
       "308                 [▁, s, hit, hole]\n",
       "309                  [▁solo, mo, ons]\n",
       "310                  [▁walk, book, s]\n",
       "311                  [▁word, mill, s]\n",
       "Name: unilm_segmentation_raw, Length: 312, dtype: object"
      ]
     },
     "execution_count": 4,
     "metadata": {},
     "output_type": "execute_result"
    }
   ],
   "source": [
    "complex_words['unilm_segmentation_raw'] = complex_words['word'].apply(\n",
    "    lambda x: sp.encode(x, out_type=str))\n",
    "complex_words['unilm_segmentation_raw']"
   ]
  },
  {
   "cell_type": "code",
   "execution_count": 5,
   "metadata": {},
   "outputs": [
    {
     "data": {
      "text/html": [
       "<div>\n",
       "<style scoped>\n",
       "    .dataframe tbody tr th:only-of-type {\n",
       "        vertical-align: middle;\n",
       "    }\n",
       "\n",
       "    .dataframe tbody tr th {\n",
       "        vertical-align: top;\n",
       "    }\n",
       "\n",
       "    .dataframe thead th {\n",
       "        text-align: right;\n",
       "    }\n",
       "</style>\n",
       "<table border=\"1\" class=\"dataframe\">\n",
       "  <thead>\n",
       "    <tr style=\"text-align: right;\">\n",
       "      <th></th>\n",
       "      <th>class</th>\n",
       "      <th>word</th>\n",
       "      <th>bases</th>\n",
       "      <th>sequence</th>\n",
       "      <th>linearity</th>\n",
       "      <th>semantic relation</th>\n",
       "      <th>unilm_segmentation_raw</th>\n",
       "      <th>unilm_segmentation_bpe</th>\n",
       "    </tr>\n",
       "  </thead>\n",
       "  <tbody>\n",
       "    <tr>\n",
       "      <td>0</td>\n",
       "      <td>blend</td>\n",
       "      <td>adhocrat</td>\n",
       "      <td>adhoc aristocrat</td>\n",
       "      <td>AAAAXBBB</td>\n",
       "      <td>linear</td>\n",
       "      <td>time</td>\n",
       "      <td>[▁a, d, ho, cra, t]</td>\n",
       "      <td>[a, ##d, ##ho, ##cra, ##t]</td>\n",
       "    </tr>\n",
       "    <tr>\n",
       "      <td>1</td>\n",
       "      <td>blend</td>\n",
       "      <td>ambidancetrous</td>\n",
       "      <td>ambidextrous dance</td>\n",
       "      <td>AAAAXBBBBAAAAA</td>\n",
       "      <td>nonlinear</td>\n",
       "      <td>attribute</td>\n",
       "      <td>[▁am, bi, dance, t, rous]</td>\n",
       "      <td>[am, ##bi, ##dance, ##t, ##rous]</td>\n",
       "    </tr>\n",
       "    <tr>\n",
       "      <td>2</td>\n",
       "      <td>blend</td>\n",
       "      <td>analingus</td>\n",
       "      <td>anal cunnilingus</td>\n",
       "      <td>AAAXBBBBB</td>\n",
       "      <td>linear</td>\n",
       "      <td>loc_part_whole</td>\n",
       "      <td>[▁an, al, ing, us]</td>\n",
       "      <td>[an, ##al, ##ing, ##us]</td>\n",
       "    </tr>\n",
       "    <tr>\n",
       "      <td>3</td>\n",
       "      <td>blend</td>\n",
       "      <td>aquamation</td>\n",
       "      <td>aqua cremation</td>\n",
       "      <td>AAAABBBBBB</td>\n",
       "      <td>linear</td>\n",
       "      <td>causal</td>\n",
       "      <td>[▁a, qua, m, ation]</td>\n",
       "      <td>[a, ##qua, ##m, ##ation]</td>\n",
       "    </tr>\n",
       "    <tr>\n",
       "      <td>4</td>\n",
       "      <td>blend</td>\n",
       "      <td>artveillance</td>\n",
       "      <td>art surveillance</td>\n",
       "      <td>AAABBBBBBBBB</td>\n",
       "      <td>linear</td>\n",
       "      <td>purpose</td>\n",
       "      <td>[▁art, ve, il, lance]</td>\n",
       "      <td>[art, ##ve, ##il, ##lance]</td>\n",
       "    </tr>\n",
       "  </tbody>\n",
       "</table>\n",
       "</div>"
      ],
      "text/plain": [
       "   class            word               bases        sequence  linearity  \\\n",
       "0  blend        adhocrat    adhoc aristocrat        AAAAXBBB     linear   \n",
       "1  blend  ambidancetrous  ambidextrous dance  AAAAXBBBBAAAAA  nonlinear   \n",
       "2  blend       analingus    anal cunnilingus       AAAXBBBBB     linear   \n",
       "3  blend      aquamation      aqua cremation      AAAABBBBBB     linear   \n",
       "4  blend    artveillance    art surveillance    AAABBBBBBBBB     linear   \n",
       "\n",
       "  semantic relation     unilm_segmentation_raw  \\\n",
       "0              time        [▁a, d, ho, cra, t]   \n",
       "1         attribute  [▁am, bi, dance, t, rous]   \n",
       "2    loc_part_whole         [▁an, al, ing, us]   \n",
       "3            causal        [▁a, qua, m, ation]   \n",
       "4           purpose      [▁art, ve, il, lance]   \n",
       "\n",
       "             unilm_segmentation_bpe  \n",
       "0        [a, ##d, ##ho, ##cra, ##t]  \n",
       "1  [am, ##bi, ##dance, ##t, ##rous]  \n",
       "2           [an, ##al, ##ing, ##us]  \n",
       "3          [a, ##qua, ##m, ##ation]  \n",
       "4        [art, ##ve, ##il, ##lance]  "
      ]
     },
     "execution_count": 5,
     "metadata": {},
     "output_type": "execute_result"
    }
   ],
   "source": [
    "segmentations_as_bpe = []\n",
    "for i, row in complex_words.iterrows():\n",
    "    new_seg = []\n",
    "    segments = row['unilm_segmentation_raw']\n",
    "    for j, seg in enumerate(segments):\n",
    "        if j==0:\n",
    "            new_seg.append(seg.replace(\"▁\", \"\"))\n",
    "        elif j > 0:\n",
    "            new_seg.append(\"##\" + seg)\n",
    "    segmentations_as_bpe.append(new_seg)\n",
    "complex_words['unilm_segmentation_bpe'] = segmentations_as_bpe\n",
    "complex_words.head()"
   ]
  },
  {
   "cell_type": "code",
   "execution_count": 6,
   "metadata": {},
   "outputs": [],
   "source": [
    "complex_words['segmentation_str'] = [' '.join(row['unilm_segmentation_bpe'])\n",
    "                                     for i, row in complex_words.iterrows()]"
   ]
  },
  {
   "cell_type": "code",
   "execution_count": 7,
   "metadata": {},
   "outputs": [],
   "source": [
    "complex_words.to_csv(\"./results/unilm_segmentations.tsv\", sep=\"\\t\", index=None)"
   ]
  },
  {
   "cell_type": "code",
   "execution_count": null,
   "metadata": {},
   "outputs": [],
   "source": []
  }
 ],
 "metadata": {
  "kernelspec": {
   "display_name": "Python 3",
   "language": "python",
   "name": "python3"
  },
  "language_info": {
   "codemirror_mode": {
    "name": "ipython",
    "version": 3
   },
   "file_extension": ".py",
   "mimetype": "text/x-python",
   "name": "python",
   "nbconvert_exporter": "python",
   "pygments_lexer": "ipython3",
   "version": "3.7.0"
  }
 },
 "nbformat": 4,
 "nbformat_minor": 2
}
